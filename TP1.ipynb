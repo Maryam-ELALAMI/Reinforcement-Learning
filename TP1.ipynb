{
 "cells": [
  {
   "cell_type": "markdown",
   "id": "79e60c86-a95f-4ea3-af30-1fe81fe8d0bd",
   "metadata": {},
   "source": [
    "# TP 1:"
   ]
  },
  {
   "cell_type": "code",
   "execution_count": 1,
   "id": "526c2769-a2a1-420a-9bf1-3fdc733fc452",
   "metadata": {},
   "outputs": [],
   "source": [
    "import gymnasium as gym "
   ]
  },
  {
   "cell_type": "code",
   "execution_count": 2,
   "id": "7413dd2a-09cc-4a85-9af9-9e3ea9ac00a4",
   "metadata": {},
   "outputs": [
    {
     "data": {
      "text/plain": [
       "(array([ 0.02859573, -0.01696441, -0.04300521, -0.03536597], dtype=float32),\n",
       " {})"
      ]
     },
     "execution_count": 2,
     "metadata": {},
     "output_type": "execute_result"
    }
   ],
   "source": [
    "env = gym.make(\"CartPole-v1\" ,  render_mode= \"human\")\n",
    "env.reset()"
   ]
  },
  {
   "cell_type": "code",
   "execution_count": 3,
   "id": "bd9f3201-9e7a-4361-8594-10be03112af1",
   "metadata": {},
   "outputs": [
    {
     "name": "stdout",
     "output_type": "stream",
     "text": [
      "Espace d'action : Discrete(2)\n",
      "Espace d'observations : Box([-4.8               -inf -0.41887903        -inf], [4.8               inf 0.41887903        inf], (4,), float32)\n",
      "Action : 1, Observation:  [ 0.02825644  0.17874703 -0.04371253 -0.34130132], Reward: 1.0\n",
      "Action : 0, Observation:  [ 0.03183138 -0.01572662 -0.05053856 -0.06271691], Reward: 1.0\n",
      "Action : 0, Observation:  [ 0.03151685 -0.21008891 -0.05179289  0.21360227], Reward: 1.0\n",
      "Action : 0, Observation:  [ 0.02731507 -0.4044336  -0.04752085  0.4895081 ], Reward: 1.0\n",
      "Action : 0, Observation:  [ 0.0192264  -0.59885406 -0.03773069  0.7668437 ], Reward: 1.0\n",
      "Action : 0, Observation:  [ 0.00724932 -0.79343677 -0.02239381  1.0474199 ], Reward: 1.0\n",
      "Action : 1, Observation:  [-0.00861941 -0.5980249  -0.00144542  0.7477923 ], Reward: 1.0\n",
      "Action : 0, Observation:  [-0.02057991 -0.7931269   0.01351043  1.04002   ], Reward: 1.0\n",
      "Action : 0, Observation:  [-0.03644245 -0.98842573  0.03431083  1.3369135 ], Reward: 1.0\n",
      "Action : 1, Observation:  [-0.05621096 -0.7937524   0.0610491   1.0551608 ], Reward: 1.0\n",
      "Action : 1, Observation:  [-0.07208601 -0.59949046  0.08215231  0.78224796], Reward: 1.0\n",
      "Action : 1, Observation:  [-0.08407582 -0.40558794  0.09779727  0.5165008 ], Reward: 1.0\n",
      "Action : 1, Observation:  [-0.09218758 -0.21196927  0.10812729  0.2561671 ], Reward: 1.0\n",
      "Action : 1, Observation:  [-0.09642696 -0.01854388  0.11325063 -0.00054904], Reward: 1.0\n",
      "Action : 0, Observation:  [-0.09679785 -0.2150925   0.11323965  0.3256098 ], Reward: 1.0\n",
      "Action : 0, Observation:  [-0.10109969 -0.41162932  0.11975185  0.65174824], Reward: 1.0\n",
      "Action : 0, Observation:  [-0.10933228 -0.6081975   0.13278681  0.9796119 ], Reward: 1.0\n",
      "Action : 0, Observation:  [-0.12149623 -0.80482537  0.15237905  1.3108819 ], Reward: 1.0\n",
      "Action : 0, Observation:  [-0.13759273 -1.0015129   0.17859669  1.647121  ], Reward: 1.0\n",
      "Action : 1, Observation:  [-0.157623  -0.8088728  0.2115391  1.4149857], Reward: 1.0\n",
      "Action : 0, Observation:  [ 0.02902561 -0.23816909  0.03616843  0.3219602 ], Reward: 1.0\n",
      "Action : 1, Observation:  [ 0.02426223 -0.04358036  0.04260764  0.0408992 ], Reward: 1.0\n",
      "Action : 0, Observation:  [ 0.02339062 -0.23928657  0.04342562  0.34671494], Reward: 1.0\n",
      "Action : 0, Observation:  [ 0.01860489 -0.43499845  0.05035992  0.65276915], Reward: 1.0\n",
      "Action : 0, Observation:  [ 0.00990492 -0.6307842   0.0634153   0.960875  ], Reward: 1.0\n",
      "Action : 0, Observation:  [-0.00271076 -0.82669854  0.0826328   1.2727873 ], Reward: 1.0\n",
      "Action : 1, Observation:  [-0.01924473 -0.6327225   0.10808855  1.0070826 ], Reward: 1.0\n",
      "Action : 0, Observation:  [-0.03189918 -0.8291086   0.1282302   1.3316587 ], Reward: 1.0\n",
      "Action : 1, Observation:  [-0.04848135 -0.6358156   0.15486337  1.0816962 ], Reward: 1.0\n",
      "Action : 0, Observation:  [-0.06119766 -0.8326045   0.1764973   1.4186951 ], Reward: 1.0\n",
      "Action : 1, Observation:  [-0.07784975 -0.6400511   0.20487121  1.1859733 ], Reward: 1.0\n",
      "Action : 0, Observation:  [-0.09065078 -0.8371537   0.22859067  1.5352558 ], Reward: 1.0\n",
      "Action : 1, Observation:  [ 0.00451892  0.19372828  0.02240315 -0.28703144], Reward: 1.0\n",
      "Action : 1, Observation:  [ 0.00839348  0.3885237   0.01666252 -0.57256526], Reward: 1.0\n",
      "Action : 1, Observation:  [ 0.01616396  0.5834081   0.00521122 -0.85995275], Reward: 1.0\n",
      "Action : 1, Observation:  [ 0.02783212  0.7784587  -0.01198784 -1.1509925 ], Reward: 1.0\n",
      "Action : 1, Observation:  [ 0.04340129  0.973735   -0.03500769 -1.4474103 ], Reward: 1.0\n",
      "Action : 1, Observation:  [ 0.06287599  1.1692696  -0.0639559  -1.7508225 ], Reward: 1.0\n",
      "Action : 1, Observation:  [ 0.08626138  1.3650565  -0.09897234 -2.0626929 ], Reward: 1.0\n",
      "Action : 0, Observation:  [ 0.11356252  1.1710732  -0.1402262  -1.8021922 ], Reward: 1.0\n",
      "Action : 1, Observation:  [ 0.13698398  1.3674563  -0.17627005 -2.134967  ], Reward: 1.0\n",
      "Action : 1, Observation:  [ 0.1643331   1.5638325  -0.21896939 -2.4765224 ], Reward: 1.0\n",
      "Action : 1, Observation:  [ 0.04606204  0.18149647 -0.01126568 -0.25973403], Reward: 1.0\n",
      "Action : 1, Observation:  [ 0.04969197  0.3767774  -0.01646036 -0.5559489 ], Reward: 1.0\n",
      "Action : 0, Observation:  [ 0.05722752  0.1818904  -0.02757934 -0.2684971 ], Reward: 1.0\n",
      "Action : 0, Observation:  [ 0.06086533 -0.01282733 -0.03294928  0.01536111], Reward: 1.0\n",
      "Action : 0, Observation:  [ 0.06060878 -0.20746164 -0.03264206  0.29746878], Reward: 1.0\n",
      "Action : 0, Observation:  [ 0.05645955 -0.40210342 -0.02669268  0.57968086], Reward: 1.0\n",
      "Action : 1, Observation:  [ 0.04841748 -0.20661779 -0.01509907  0.27871016], Reward: 1.0\n",
      "Action : 0, Observation:  [ 0.04428512 -0.40152112 -0.00952486  0.5665929 ], Reward: 1.0\n",
      "Action : 0, Observation:  [ 0.0362547  -0.59650815  0.00180699  0.8562599 ], Reward: 1.0\n",
      "Action : 0, Observation:  [ 0.02432454 -0.7916547   0.01893219  1.1495105 ], Reward: 1.0\n",
      "Action : 0, Observation:  [ 0.00849144 -0.9870186   0.0419224   1.4480695 ], Reward: 1.0\n",
      "Action : 1, Observation:  [-0.01124893 -0.7924364   0.07088379  1.1687742 ], Reward: 1.0\n",
      "Action : 1, Observation:  [-0.02709766 -0.5983045   0.09425928  0.89913005], Reward: 1.0\n",
      "Action : 1, Observation:  [-0.03906375 -0.4045777   0.11224188  0.63750106], Reward: 1.0\n",
      "Action : 0, Observation:  [-0.0471553 -0.6010711  0.1249919  0.9633164], Reward: 1.0\n",
      "Action : 0, Observation:  [-0.05917672 -0.7976306   0.14425823  1.2925075 ], Reward: 1.0\n",
      "Action : 0, Observation:  [-0.07512934 -0.9942612   0.17010838  1.6266547 ], Reward: 1.0\n",
      "Action : 1, Observation:  [-0.09501456 -0.8014993   0.20264147  1.3914561 ], Reward: 1.0\n",
      "Action : 1, Observation:  [-0.11104455 -0.6093938   0.2304706   1.1683638 ], Reward: 1.0\n",
      "Action : 1, Observation:  [-0.03418566  0.23338982 -0.02341883 -0.27648997], Reward: 1.0\n",
      "Action : 1, Observation:  [-0.02951786  0.42883793 -0.02894862 -0.57646626], Reward: 1.0\n",
      "Action : 1, Observation:  [-0.0209411   0.62435347 -0.04047795 -0.8781263 ], Reward: 1.0\n",
      "Action : 0, Observation:  [-0.00845403  0.42980424 -0.05804048 -0.59843886], Reward: 1.0\n",
      "Action : 1, Observation:  [ 1.4205268e-04  6.2568820e-01 -7.0009254e-02 -9.0882438e-01], Reward: 1.0\n",
      "Action : 0, Observation:  [ 0.01265582  0.43158016 -0.08818574 -0.6389414 ], Reward: 1.0\n",
      "Action : 1, Observation:  [ 0.02128742  0.6278138  -0.10096457 -0.95804113], Reward: 1.0\n",
      "Action : 0, Observation:  [ 0.0338437   0.43418372 -0.12012539 -0.6987083 ], Reward: 1.0\n",
      "Action : 0, Observation:  [ 0.04252737  0.24091402 -0.13409956 -0.44612488], Reward: 1.0\n",
      "Action : 0, Observation:  [ 0.04734565  0.04791874 -0.14302206 -0.19853821], Reward: 1.0\n",
      "Action : 1, Observation:  [ 0.04830403  0.24476588 -0.14699282 -0.5326994 ], Reward: 1.0\n",
      "Action : 0, Observation:  [ 0.05319934  0.05198383 -0.1576468  -0.28970522], Reward: 1.0\n",
      "Action : 0, Observation:  [ 0.05423902 -0.14058009 -0.16344091 -0.05059762], Reward: 1.0\n",
      "Action : 0, Observation:  [ 0.05142742 -0.33302715 -0.16445287  0.18638797], Reward: 1.0\n",
      "Action : 1, Observation:  [ 0.04476687 -0.135981   -0.1607251  -0.15332499], Reward: 1.0\n",
      "Action : 0, Observation:  [ 0.04204725 -0.32848033 -0.1637916   0.08465248], Reward: 1.0\n",
      "Action : 1, Observation:  [ 0.03547765 -0.13143565 -0.16209856 -0.25489843], Reward: 1.0\n",
      "Action : 1, Observation:  [ 0.03284894  0.0655848  -0.16719653 -0.59400344], Reward: 1.0\n",
      "Action : 1, Observation:  [ 0.03416063  0.2626036  -0.1790766  -0.9343377 ], Reward: 1.0\n",
      "Action : 1, Observation:  [ 0.0394127   0.45963013 -0.19776334 -1.2775189 ], Reward: 1.0\n",
      "Action : 0, Observation:  [ 0.0486053   0.26750088 -0.22331372 -1.0527066 ], Reward: 1.0\n",
      "Action : 0, Observation:  [ 0.03358211 -0.2453215   0.04637572  0.285881  ], Reward: 1.0\n",
      "Action : 0, Observation:  [ 0.02867568 -0.44107312  0.05209334  0.5928223 ], Reward: 1.0\n",
      "Action : 1, Observation:  [ 0.01985422 -0.2467176   0.06394979  0.31699306], Reward: 1.0\n",
      "Action : 1, Observation:  [ 0.01491987 -0.05256204  0.07028965  0.04514345], Reward: 1.0\n",
      "Action : 0, Observation:  [ 0.01386863 -0.24861783  0.07119252  0.3591491 ], Reward: 1.0\n",
      "Action : 0, Observation:  [ 0.00889627 -0.4446758   0.0783755   0.67340404], Reward: 1.0\n",
      "Action : 0, Observation:  [ 2.7574174e-06 -6.4079458e-01  9.1843583e-02  9.8969793e-01], Reward: 1.0\n",
      "Action : 1, Observation:  [-0.01281313 -0.44701403  0.11163754  0.72721624], Reward: 1.0\n",
      "Action : 1, Observation:  [-0.02175341 -0.253598    0.12618186  0.47165155], Reward: 1.0\n",
      "Action : 1, Observation:  [-0.02682537 -0.06046305  0.13561489  0.22125146], Reward: 1.0\n",
      "Action : 1, Observation:  [-0.02803463  0.13248613  0.14003992 -0.02576627], Reward: 1.0\n",
      "Action : 1, Observation:  [-0.02538491  0.325351    0.1395246  -0.27119416], Reward: 1.0\n",
      "Action : 0, Observation:  [-0.01887789  0.12854244  0.13410072  0.06203713], Reward: 1.0\n",
      "Action : 1, Observation:  [-0.01630704  0.32151228  0.13534145 -0.18551132], Reward: 1.0\n",
      "Action : 0, Observation:  [-0.0098768   0.12473959  0.13163123  0.14661758], Reward: 1.0\n",
      "Action : 1, Observation:  [-0.00738201  0.31775495  0.13456358 -0.1018129 ], Reward: 1.0\n",
      "Action : 0, Observation:  [-0.00102691  0.12098686  0.13252732  0.23011345], Reward: 1.0\n",
      "Action : 0, Observation:  [ 0.00139283 -0.07575537  0.13712959  0.56148803], Reward: 1.0\n"
     ]
    }
   ],
   "source": [
    "print(f\"Espace d'action : {env.action_space}\")\n",
    "print(f\"Espace d'observations : {env.observation_space}\")\n",
    "for _ in range(100):\n",
    "    action = env.action_space.sample()\n",
    "    observation, reward, done, _, _=env.step(action)\n",
    "    print(f\"Action : {action}, Observation:  {observation}, Reward: {reward}\")\n",
    "    if done:\n",
    "        env.reset()\n",
    "env.close()"
   ]
  },
  {
   "cell_type": "markdown",
   "id": "f3c55484-5a64-4d78-a4d9-0fa5be19896f",
   "metadata": {},
   "source": [
    "## Exercice 2 : Manipulation des Observations et Récompenses"
   ]
  },
  {
   "cell_type": "markdown",
   "id": "8e3e3f99-9865-4963-9eda-66c551759bc8",
   "metadata": {},
   "source": [
    "#### 1"
   ]
  },
  {
   "cell_type": "code",
   "execution_count": 4,
   "id": "1b599c5f-9e6f-4b70-bb68-ddab7f5489d3",
   "metadata": {},
   "outputs": [
    {
     "name": "stdout",
     "output_type": "stream",
     "text": [
      "État initial : [ 0.01144495 -0.01849693 -0.01598378 -0.00253515]\n",
      "Action effectuée : 1\n",
      "Nouvelle observation : [ 0.01107501  0.17685056 -0.01603449 -0.300218  ]\n",
      "Récompense reçue : 1.0\n",
      "Épisode terminé : False\n"
     ]
    }
   ],
   "source": [
    "env = gym.make(\"CartPole-v1\", render_mode=\"human\")\n",
    "\n",
    "observation, info = env.reset()\n",
    "print(f\"État initial : {observation}\")\n",
    "\n",
    "# Exécuter une action et récupérer les valeurs retournées\n",
    "action = env.action_space.sample() \n",
    "observation, reward, terminated, truncated, info = env.step(action)\n",
    "\n",
    "# Afficher les résultats\n",
    "print(f\"Action effectuée : {action}\")\n",
    "print(f\"Nouvelle observation : {observation}\")\n",
    "print(f\"Récompense reçue : {reward}\")\n",
    "print(f\"Épisode terminé : {terminated}\")\n",
    "\n",
    "env.close()"
   ]
  },
  {
   "cell_type": "markdown",
   "id": "89143bf4-7224-47de-8a9f-6333a10c5932",
   "metadata": {},
   "source": [
    "#### 3. "
   ]
  },
  {
   "cell_type": "code",
   "execution_count": 5,
   "id": "b928ca73-33e2-4e08-93d8-064c78349d4f",
   "metadata": {},
   "outputs": [],
   "source": [
    "env = gym.make(\"CartPole-v1\", render_mode=\"human\")\n",
    "\n",
    "observation, info = env.reset()\n",
    "done = False\n",
    "\n",
    "while not done:\n",
    "    action = env.action_space.sample()  # Action aléatoire\n",
    "    observation, reward, done, _, _ = env.step(action)\n",
    "    env.render()\n",
    "\n",
    "env.close()"
   ]
  },
  {
   "cell_type": "code",
   "execution_count": 6,
   "id": "4e58b443-52b4-40da-bd05-bcd01c2b0e98",
   "metadata": {
    "scrolled": true
   },
   "outputs": [
    {
     "name": "stdout",
     "output_type": "stream",
     "text": [
      "Observation : [-0.08446745 -0.39955324  0.21784341  0.9078486 ], Reward : 1.0, Done : True\n"
     ]
    }
   ],
   "source": [
    "print(f\"Observation : {observation}, Reward : {reward}, Done : {done}\")"
   ]
  },
  {
   "cell_type": "markdown",
   "id": "f9f89685-713f-48fc-a4ec-df09ced43017",
   "metadata": {},
   "source": [
    "## Exercice 3 : Contrôle Manuel de l'Agent"
   ]
  },
  {
   "cell_type": "code",
   "execution_count": 7,
   "id": "c17979d6-50f4-4cf5-8e73-ffa57beaed45",
   "metadata": {
    "scrolled": true
   },
   "outputs": [
    {
     "name": "stdin",
     "output_type": "stream",
     "text": [
      "Entrez une action (0 ou 1) :  1\n"
     ]
    },
    {
     "name": "stdout",
     "output_type": "stream",
     "text": [
      "Nouvelle observation : [ 0.02191742  0.19430093  0.0195627  -0.26477653]\n",
      "Récompense reçue : 1.0\n"
     ]
    },
    {
     "name": "stdin",
     "output_type": "stream",
     "text": [
      "Entrez une action (0 ou 1) :  1\n"
     ]
    },
    {
     "name": "stdout",
     "output_type": "stream",
     "text": [
      "Nouvelle observation : [ 0.02580343  0.38913828  0.01426717 -0.55122554]\n",
      "Récompense reçue : 1.0\n"
     ]
    },
    {
     "name": "stdin",
     "output_type": "stream",
     "text": [
      "Entrez une action (0 ou 1) :  1\n"
     ]
    },
    {
     "name": "stdout",
     "output_type": "stream",
     "text": [
      "Nouvelle observation : [ 0.0335862   0.584057    0.00324266 -0.83937943]\n",
      "Récompense reçue : 1.0\n"
     ]
    },
    {
     "name": "stdin",
     "output_type": "stream",
     "text": [
      "Entrez une action (0 ou 1) :  1\n"
     ]
    },
    {
     "name": "stdout",
     "output_type": "stream",
     "text": [
      "Nouvelle observation : [ 0.04526734  0.7791345  -0.01354493 -1.1310408 ]\n",
      "Récompense reçue : 1.0\n"
     ]
    },
    {
     "name": "stdin",
     "output_type": "stream",
     "text": [
      "Entrez une action (0 ou 1) :  1\n"
     ]
    },
    {
     "name": "stdout",
     "output_type": "stream",
     "text": [
      "Nouvelle observation : [ 0.06085003  0.97443116 -0.03616574 -1.4279411 ]\n",
      "Récompense reçue : 1.0\n"
     ]
    },
    {
     "name": "stdin",
     "output_type": "stream",
     "text": [
      "Entrez une action (0 ou 1) :  1\n"
     ]
    },
    {
     "name": "stdout",
     "output_type": "stream",
     "text": [
      "Nouvelle observation : [ 0.08033865  1.1699806  -0.06472456 -1.731704  ]\n",
      "Récompense reçue : 1.0\n"
     ]
    },
    {
     "name": "stdin",
     "output_type": "stream",
     "text": [
      "Entrez une action (0 ou 1) :  1\n"
     ]
    },
    {
     "name": "stdout",
     "output_type": "stream",
     "text": [
      "Nouvelle observation : [ 0.10373826  1.3657792  -0.09935864 -2.0438023 ]\n",
      "Récompense reçue : 1.0\n"
     ]
    },
    {
     "name": "stdin",
     "output_type": "stream",
     "text": [
      "Entrez une action (0 ou 1) :  1\n"
     ]
    },
    {
     "name": "stdout",
     "output_type": "stream",
     "text": [
      "Nouvelle observation : [ 0.13105385  1.5617713  -0.1402347  -2.365504  ]\n",
      "Récompense reçue : 1.0\n"
     ]
    },
    {
     "name": "stdin",
     "output_type": "stream",
     "text": [
      "Entrez une action (0 ou 1) :  1\n"
     ]
    },
    {
     "name": "stdout",
     "output_type": "stream",
     "text": [
      "Nouvelle observation : [ 0.16228928  1.7578348  -0.18754478 -2.6978064 ]\n",
      "Récompense reçue : 1.0\n"
     ]
    },
    {
     "name": "stdin",
     "output_type": "stream",
     "text": [
      "Entrez une action (0 ou 1) :  1\n"
     ]
    },
    {
     "name": "stdout",
     "output_type": "stream",
     "text": [
      "Nouvelle observation : [ 0.19744597  1.9537616  -0.2415009  -3.0413585 ]\n",
      "Récompense reçue : 1.0\n",
      "L'épisode s'est terminé après 10 actions.\n"
     ]
    }
   ],
   "source": [
    "env = gym.make(\"CartPole-v1\", render_mode=\"human\")\n",
    "bservation, info = env.reset()\n",
    "steps = 0\n",
    "done = False\n",
    "while not done:\n",
    "    action = int(input(\"Entrez une action (0 ou 1) : \"))\n",
    "    observation, reward, done, _, _ = env.step(action)\n",
    "    print(f\"Nouvelle observation : {observation}\")\n",
    "    print(f\"Récompense reçue : {reward}\")\n",
    "\n",
    "    steps += 1  # Incrémentation du compteur\n",
    "\n",
    "    # Vérifier si l'épisode est terminé\n",
    "    \n",
    "print(f\"L'épisode s'est terminé après {steps} actions.\")\n",
    "      "
   ]
  },
  {
   "cell_type": "markdown",
   "id": "b13eed89-96e6-46cf-93e1-f2c0dc9514ce",
   "metadata": {},
   "source": [
    "### Exercice 4: "
   ]
  },
  {
   "cell_type": "code",
   "execution_count": 10,
   "id": "ec8f3050-76bd-46b9-ab5a-f6f39011c732",
   "metadata": {},
   "outputs": [
    {
     "name": "stdout",
     "output_type": "stream",
     "text": [
      "Épisode 1, Durée : 23 étapes\n",
      "Épisode 2, Durée : 16 étapes\n",
      "Épisode 3, Durée : 21 étapes\n",
      "Épisode 4, Durée : 28 étapes\n",
      "Épisode 5, Durée : 20 étapes\n",
      "Épisode 6, Durée : 21 étapes\n",
      "Épisode 7, Durée : 16 étapes\n",
      "Épisode 8, Durée : 21 étapes\n",
      "Épisode 9, Durée : 10 étapes\n",
      "Épisode 10, Durée : 56 étapes\n",
      "Durée moyenne des épisodes : 23.2 étapes\n"
     ]
    }
   ],
   "source": [
    "num_episodes = 10\n",
    "total_steps = 0\n",
    "\n",
    "for episode in range(num_episodes):\n",
    "    done = False\n",
    "    steps = 0\n",
    "    \n",
    "    env.reset()\n",
    "    while not done:\n",
    "        action = env.action_space.sample()\n",
    "        observation, reward, done, _, _ = env.step(action)\n",
    "        steps += 1\n",
    "    total_steps += steps\n",
    "    print(f\"Épisode {episode + 1}, Durée : {steps} étapes\")\n",
    "\n",
    "average_steps = total_steps / num_episodes\n",
    "print(f\"Durée moyenne des épisodes : {average_steps} étapes\")\n",
    "env.close()"
   ]
  }
 ],
 "metadata": {
  "kernelspec": {
   "display_name": "Python 3 (ipykernel)",
   "language": "python",
   "name": "python3"
  },
  "language_info": {
   "codemirror_mode": {
    "name": "ipython",
    "version": 3
   },
   "file_extension": ".py",
   "mimetype": "text/x-python",
   "name": "python",
   "nbconvert_exporter": "python",
   "pygments_lexer": "ipython3",
   "version": "3.11.9"
  }
 },
 "nbformat": 4,
 "nbformat_minor": 5
}
